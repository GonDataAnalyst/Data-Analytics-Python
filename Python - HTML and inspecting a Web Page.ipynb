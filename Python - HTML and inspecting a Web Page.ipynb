{
 "cells": [
  {
   "cell_type": "markdown",
   "id": "829653e3-29c6-4842-ba6b-20054bd8fba9",
   "metadata": {},
   "source": [
    "<html>\n",
    "<head>\n",
    "    <title>My First Web Page</title>\n",
    "</head>\n",
    "<body>\n",
    "    <h1>My First Web Page</h1>\n",
    "    <p><b>Hello World Wide Web!</b></p>\n",
    "    <p><i>Hello World Wide Web!</i></p>\n",
    "    <p><u>Hello World Wide Web!</u></p>\n",
    "    <p>This is my first web page.</p>\n",
    "    <p>HTML tags can give <b><i>various</i></b> <u>looks and format</u> to the content of this web page.</p>\n",
    "</body>\n",
    "</html>"
   ]
  },
  {
   "cell_type": "code",
   "execution_count": 3,
   "id": "778427a0-38df-4af4-8741-5aec759dd9c6",
   "metadata": {},
   "outputs": [
    {
     "ename": "SyntaxError",
     "evalue": "invalid syntax (4175865101.py, line 1)",
     "output_type": "error",
     "traceback": [
      "\u001b[1;36m  Cell \u001b[1;32mIn[3], line 1\u001b[1;36m\u001b[0m\n\u001b[1;33m    <html>\u001b[0m\n\u001b[1;37m    ^\u001b[0m\n\u001b[1;31mSyntaxError\u001b[0m\u001b[1;31m:\u001b[0m invalid syntax\n"
     ]
    }
   ],
   "source": [
    "<html>\n",
    "<head>\n",
    "    <title>My First Web Page</title>\n",
    "</head>\n",
    "<body>\n",
    "    <h1>My First Web Page</h1>\n",
    "    <p><b>Hello World Wide Web!</b></p>\n",
    "    <p><i>Hello World Wide Web!</i></p>\n",
    "    <p><u>Hello World Wide Web!</u></p>\n",
    "    <p>This is my first web page.</p>\n",
    "    <p>HTML tags can give <b><i>various</i></b> <u>looks and format</u> to the content of this web page.</p>\n",
    "</body>\n",
    "</html>"
   ]
  },
  {
   "cell_type": "code",
   "execution_count": null,
   "id": "a067d2ed-5436-498f-b847-401c50155344",
   "metadata": {},
   "outputs": [],
   "source": [
    "https://www.scrapethissite.com/pages/forms/"
   ]
  },
  {
   "cell_type": "code",
   "execution_count": null,
   "id": "0139bccd-893d-4651-8695-18d81311eb92",
   "metadata": {},
   "outputs": [],
   "source": []
  },
  {
   "cell_type": "code",
   "execution_count": null,
   "id": "058f3c3d-6580-4d30-a981-cde6a05f90e4",
   "metadata": {},
   "outputs": [],
   "source": []
  },
  {
   "cell_type": "code",
   "execution_count": null,
   "id": "a2cec024-6192-45c7-8b6c-316eb503ab93",
   "metadata": {},
   "outputs": [],
   "source": []
  },
  {
   "cell_type": "code",
   "execution_count": null,
   "id": "92fc3bf4-c7f2-4113-90c3-a51a68b951ba",
   "metadata": {},
   "outputs": [],
   "source": []
  },
  {
   "cell_type": "code",
   "execution_count": null,
   "id": "b2975f39-1998-4b23-a862-233be677a73b",
   "metadata": {},
   "outputs": [],
   "source": []
  },
  {
   "cell_type": "code",
   "execution_count": null,
   "id": "354d25e9-a91a-4957-9dcf-511345f8e350",
   "metadata": {},
   "outputs": [],
   "source": []
  },
  {
   "cell_type": "code",
   "execution_count": null,
   "id": "fc19dada-3f76-4833-a4e6-ee8683ab079a",
   "metadata": {},
   "outputs": [],
   "source": []
  },
  {
   "cell_type": "code",
   "execution_count": null,
   "id": "d7348fec-22a1-4445-80f7-68b3c51441aa",
   "metadata": {},
   "outputs": [],
   "source": []
  },
  {
   "cell_type": "code",
   "execution_count": null,
   "id": "321be16c-6144-462d-8ac2-07b3fc788694",
   "metadata": {},
   "outputs": [],
   "source": []
  },
  {
   "cell_type": "code",
   "execution_count": null,
   "id": "b72338fc-3cc1-42bb-8e80-888bedee874c",
   "metadata": {},
   "outputs": [],
   "source": []
  },
  {
   "cell_type": "code",
   "execution_count": null,
   "id": "05b1b49a-aa0a-4e22-989d-95dd071517d6",
   "metadata": {},
   "outputs": [],
   "source": []
  }
 ],
 "metadata": {
  "kernelspec": {
   "display_name": "Python [conda env:base] *",
   "language": "python",
   "name": "conda-base-py"
  },
  "language_info": {
   "codemirror_mode": {
    "name": "ipython",
    "version": 3
   },
   "file_extension": ".py",
   "mimetype": "text/x-python",
   "name": "python",
   "nbconvert_exporter": "python",
   "pygments_lexer": "ipython3",
   "version": "3.12.7"
  }
 },
 "nbformat": 4,
 "nbformat_minor": 5
}
