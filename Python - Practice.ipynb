{
 "cells": [
  {
   "cell_type": "code",
   "execution_count": null,
   "id": "c5d226cc-1a85-4a7d-8e64-c2597ae7068f",
   "metadata": {},
   "outputs": [],
   "source": [
    "#Python1\n",
    "my_string = \"Hello, World!\"\n",
    "print(my_string)"
   ]
  },
  {
   "cell_type": "code",
   "execution_count": 28,
   "id": "5e5851d4-516a-4262-994a-0c2b028dc3c5",
   "metadata": {},
   "outputs": [
    {
     "name": "stdin",
     "output_type": "stream",
     "text": [
      " 5\n"
     ]
    },
    {
     "name": "stdout",
     "output_type": "stream",
     "text": [
      "Weird\n"
     ]
    }
   ],
   "source": [
    "#Python2\n",
    "n = int(input().strip())\n",
    "\n",
    "if n % 2 != 0:\n",
    "    print(\"Weird\")\n",
    "elif n % 2 == 0:\n",
    "    if n >= 2 and n <= 5:\n",
    "        print(\"Not Weird\")\n",
    "    elif n >= 6 and n <=20:\n",
    "        print(\"Weird\")\n",
    "    elif n > 20:\n",
    "        print(\"Not Weird\")"
   ]
  },
  {
   "cell_type": "code",
   "execution_count": 30,
   "id": "d55cc328-a83f-4ba9-b61a-643a3dcecb8a",
   "metadata": {},
   "outputs": [
    {
     "name": "stdin",
     "output_type": "stream",
     "text": [
      " 6\n",
      " 4\n"
     ]
    },
    {
     "name": "stdout",
     "output_type": "stream",
     "text": [
      "10\n",
      "2\n",
      "24\n"
     ]
    }
   ],
   "source": [
    "#Python3\n",
    "a = int(input().strip())\n",
    "b = int(input().strip())\n",
    "\n",
    "print(a + b)\n",
    "print(a - b)\n",
    "print(a * b)"
   ]
  },
  {
   "cell_type": "code",
   "execution_count": 34,
   "id": "9e006272-6e93-4978-872a-4583a7398558",
   "metadata": {},
   "outputs": [
    {
     "name": "stdin",
     "output_type": "stream",
     "text": [
      " 5\n",
      " 6\n"
     ]
    },
    {
     "name": "stdout",
     "output_type": "stream",
     "text": [
      "0\n",
      "0.8333333333333334\n"
     ]
    }
   ],
   "source": [
    "#Python4\n",
    "a = int(input().strip())\n",
    "b = int(input().strip())\n",
    "\n",
    "print(int(a / b))\n",
    "print(float(a / b))"
   ]
  },
  {
   "cell_type": "code",
   "execution_count": 36,
   "id": "4f4230d0-25ad-4cee-9d0e-0fc312de8369",
   "metadata": {},
   "outputs": [
    {
     "name": "stdin",
     "output_type": "stream",
     "text": [
      " 7\n",
      " 8\n"
     ]
    },
    {
     "name": "stdout",
     "output_type": "stream",
     "text": [
      "0\n",
      "0.875\n"
     ]
    }
   ],
   "source": [
    "#Python4\n",
    "a = int(input().strip())\n",
    "b = int(input().strip())\n",
    "\n",
    "print(a // b)\n",
    "print(a / b)"
   ]
  },
  {
   "cell_type": "code",
   "execution_count": 78,
   "id": "808ee8f0-e99d-4caa-a7dc-3ae451fa211e",
   "metadata": {},
   "outputs": [
    {
     "name": "stdin",
     "output_type": "stream",
     "text": [
      "Introduce un número:  5\n"
     ]
    },
    {
     "name": "stdout",
     "output_type": "stream",
     "text": [
      "0\n",
      "1\n",
      "4\n",
      "9\n",
      "16\n"
     ]
    }
   ],
   "source": [
    "#Python5\n",
    "n = int(input(\"Introduce un número: \").strip())\n",
    "\n",
    "for i in range(n):\n",
    "    print(i*i)"
   ]
  },
  {
   "cell_type": "code",
   "execution_count": 136,
   "id": "4fa73a03-ff5e-438e-b727-d1441f20d8b5",
   "metadata": {},
   "outputs": [
    {
     "name": "stdin",
     "output_type": "stream",
     "text": [
      "Introduce un número:  2400\n"
     ]
    },
    {
     "name": "stdout",
     "output_type": "stream",
     "text": [
      "True\n"
     ]
    }
   ],
   "source": [
    "#Python6\n",
    "def is_leap(year):\n",
    "    leap = False\n",
    "    \n",
    "    if (year % 4 == 0 and year % 100 != 0) or (year % 400 == 0):\n",
    "        leap = True\n",
    "    else:\n",
    "        leap = False\n",
    "\n",
    "    return leap\n",
    "    \n",
    "year = int(input(\"Introduce un número: \"))\n",
    "\n",
    "print(is_leap(year))"
   ]
  },
  {
   "cell_type": "code",
   "execution_count": 158,
   "id": "faa1bac2-22ce-4e81-a1ea-2df8fdef002e",
   "metadata": {},
   "outputs": [
    {
     "name": "stdin",
     "output_type": "stream",
     "text": [
      "Introduce un número:  5\n"
     ]
    },
    {
     "name": "stdout",
     "output_type": "stream",
     "text": [
      "12345"
     ]
    }
   ],
   "source": [
    "#Python7\n",
    "n = int(input(\"Introduce un número: \").strip())\n",
    "\n",
    "for i in range(1, n + 1):\n",
    "        print(i, end='')"
   ]
  },
  {
   "cell_type": "code",
   "execution_count": 29,
   "id": "06e17008-11d6-49a3-b0c8-8cc01723bf65",
   "metadata": {},
   "outputs": [
    {
     "name": "stdout",
     "output_type": "stream",
     "text": [
      "g\n",
      "o\n",
      "n\n",
      "z\n",
      "a\n",
      "l\n",
      "o\n",
      "None\n"
     ]
    }
   ],
   "source": [
    "#Python8\n",
    "def count_substring(string, sub_string):\n",
    "\n",
    "    s = len(string)\n",
    "    \n",
    "    for i in range(0,s):\n",
    "        print(string[i])\n",
    "        \n",
    "    return\n",
    "\n",
    "print(count_substring(\"gonzalo\",\"gon\"))"
   ]
  },
  {
   "cell_type": "code",
   "execution_count": 86,
   "id": "40ce77ae-3604-40bd-b732-fcb481089a0f",
   "metadata": {},
   "outputs": [
    {
     "name": "stdin",
     "output_type": "stream",
     "text": [
      "Ingresa un número entre 2 y 10:  3\n",
      "Ingresa 3 números entre -100 y 100 separados por espacio:  2\n"
     ]
    },
    {
     "name": "stdout",
     "output_type": "stream",
     "text": [
      "Debe ingresar exactamente 3 números.\n"
     ]
    },
    {
     "name": "stdin",
     "output_type": "stream",
     "text": [
      "Ingresa 3 números entre -100 y 100 separados por espacio:  3 54 12\n"
     ]
    },
    {
     "name": "stdout",
     "output_type": "stream",
     "text": [
      "Runner-up score: 12\n"
     ]
    }
   ],
   "source": [
    "#Python9\n",
    "while True:\n",
    "    n = int(input(\"Ingresa un número entre 2 y 10: \"))\n",
    "    if 2 <= n <= 10:\n",
    "        break\n",
    "    print(\"Número fuera de rango. Intente de nuevo.\")\n",
    "\n",
    "\n",
    "while True:\n",
    "    arr = list(map(int, input(f\"Ingresa {n} números entre -100 y 100 separados por espacio: \").split()))\n",
    "    \n",
    "    if len(arr) != n:\n",
    "        print(f\"Debe ingresar exactamente {n} números.\")\n",
    "        continue\n",
    "        \n",
    "    if all(-100 <= num <= 100 for num in arr):\n",
    "        break\n",
    "\n",
    "    print(\"Uno o más números están fuera de rango. Intente de nuevo.\")\n",
    "\n",
    "run = 0\n",
    "run_max = max(arr)\n",
    "\n",
    "runner_up = max(num for num in arr if num < run_max)\n",
    "\n",
    "print(\"Runner-up score:\",runner_up)"
   ]
  },
  {
   "cell_type": "code",
   "execution_count": 117,
   "id": "e9e19f0c-2e34-479b-a7c5-9ebfb43b6c26",
   "metadata": {},
   "outputs": [
    {
     "name": "stdin",
     "output_type": "stream",
     "text": [
      " 5\n",
      " Gon\n",
      " 23\n",
      " Pedro\n",
      " 23\n",
      " Juan\n",
      " 25\n",
      " Jonatan\n",
      " 50\n",
      " Jamaica\n",
      " 90\n"
     ]
    }
   ],
   "source": [
    "# Python10\n",
    "\n",
    "grades = []\n",
    "\n",
    "for _ in range(int(input())):\n",
    "        name = input()\n",
    "        score = float(input())\n",
    "        grades.append([name,score])\n",
    "\n",
    "scores = sorted(set(score for name, score in grades))\n",
    "\n",
    "second_lowest = scores[1]\n",
    "\n",
    "second_lowest_students = [name for name, score in grades if score == second_lowest]\n",
    "\n",
    "second_lowest_students\n",
    "\n",
    "for name in sorted(second_lowest_students):\n",
    "    print(name)"
   ]
  },
  {
   "cell_type": "code",
   "execution_count": 139,
   "id": "5600cb4c-d7bc-4c47-9849-cd83c70e8354",
   "metadata": {},
   "outputs": [],
   "source": []
  },
  {
   "cell_type": "code",
   "execution_count": 143,
   "id": "b14bae4b-d520-478b-95af-5288db40bf9a",
   "metadata": {},
   "outputs": [
    {
     "name": "stdout",
     "output_type": "stream",
     "text": [
      "Juan\n"
     ]
    }
   ],
   "source": []
  },
  {
   "cell_type": "code",
   "execution_count": null,
   "id": "cab72dce-2033-4889-9cd7-118142a95d98",
   "metadata": {},
   "outputs": [],
   "source": []
  }
 ],
 "metadata": {
  "kernelspec": {
   "display_name": "Python [conda env:base] *",
   "language": "python",
   "name": "conda-base-py"
  },
  "language_info": {
   "codemirror_mode": {
    "name": "ipython",
    "version": 3
   },
   "file_extension": ".py",
   "mimetype": "text/x-python",
   "name": "python",
   "nbconvert_exporter": "python",
   "pygments_lexer": "ipython3",
   "version": "3.12.7"
  }
 },
 "nbformat": 4,
 "nbformat_minor": 5
}
