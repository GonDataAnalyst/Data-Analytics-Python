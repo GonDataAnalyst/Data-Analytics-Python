{
 "cells": [
  {
   "cell_type": "code",
   "execution_count": 2,
   "id": "c2cefbee-a94a-4e98-b338-c7c0ad1f6811",
   "metadata": {},
   "outputs": [
    {
     "name": "stdout",
     "output_type": "stream",
     "text": [
      "Hello World!\n"
     ]
    }
   ],
   "source": [
    "print('Hello World!')"
   ]
  },
  {
   "cell_type": "markdown",
   "id": "a91c6a5a-5665-4ff3-9b45-c0bd0550fd07",
   "metadata": {},
   "source": [
    "Variables in Python\n",
    "\n"
   ]
  },
  {
   "cell_type": "code",
   "execution_count": 19,
   "id": "611c8ecc-ab3b-47cf-805e-f85def0ed873",
   "metadata": {},
   "outputs": [
    {
     "name": "stdout",
     "output_type": "stream",
     "text": [
      "22\n"
     ]
    }
   ],
   "source": [
    "x = 22\n",
    "print(x)"
   ]
  },
  {
   "cell_type": "code",
   "execution_count": 21,
   "id": "78a3c33a-ad33-4746-b567-8cd58acf0b03",
   "metadata": {},
   "outputs": [
    {
     "data": {
      "text/plain": [
       "int"
      ]
     },
     "execution_count": 21,
     "metadata": {},
     "output_type": "execute_result"
    }
   ],
   "source": [
    "type(x)"
   ]
  },
  {
   "cell_type": "markdown",
   "id": "b61e0384-bb5c-41c1-84ad-4ae3d8bdc17c",
   "metadata": {},
   "source": [
    "It automatically assigns data type to variables"
   ]
  },
  {
   "cell_type": "code",
   "execution_count": 24,
   "id": "ccfbd4e5-5f67-4b7f-8dd8-4cb8d3f0c572",
   "metadata": {},
   "outputs": [
    {
     "name": "stdout",
     "output_type": "stream",
     "text": [
      "Mint Chocolate Chip\n"
     ]
    }
   ],
   "source": [
    "y = 'Mint Chocolate Chip'\n",
    "print(y)"
   ]
  },
  {
   "cell_type": "code",
   "execution_count": 26,
   "id": "b263d73b-803e-47bb-91be-6755c4975361",
   "metadata": {},
   "outputs": [
    {
     "data": {
      "text/plain": [
       "str"
      ]
     },
     "execution_count": 26,
     "metadata": {},
     "output_type": "execute_result"
    }
   ],
   "source": [
    "type(y)"
   ]
  },
  {
   "cell_type": "code",
   "execution_count": 32,
   "id": "01408545-94b7-41df-9958-637e5ee170d2",
   "metadata": {},
   "outputs": [
    {
     "name": "stdout",
     "output_type": "stream",
     "text": [
      "Mint Chocolate Chip\n",
      "Silver\n"
     ]
    }
   ],
   "source": [
    "# Case Sensitivity\n",
    "\n",
    "y = 'Chocolate'\n",
    "y = 'Mint Chocolate Chip'\n",
    "Y = 'Silver'\n",
    "print (y)\n",
    "print(Y)"
   ]
  },
  {
   "cell_type": "markdown",
   "id": "2eeabd9b-c4fb-4258-86c8-8730f0c508e3",
   "metadata": {},
   "source": [
    "Variables are cap sensitive"
   ]
  },
  {
   "cell_type": "code",
   "execution_count": 35,
   "id": "52042803-4390-434e-87ad-65aa3321044a",
   "metadata": {},
   "outputs": [
    {
     "name": "stdout",
     "output_type": "stream",
     "text": [
      "Chocolate\n",
      "Vanilla\n",
      "Rocky Road\n"
     ]
    }
   ],
   "source": [
    "#Assign multiple values to multiple variables\n",
    "\n",
    "x,y,z = 'Chocolate', 'Vanilla', 'Rocky Road'\n",
    "print(x)\n",
    "print(y)\n",
    "print(z)"
   ]
  },
  {
   "cell_type": "code",
   "execution_count": 49,
   "id": "6917d175-939e-4409-bbc9-64f83160b9e8",
   "metadata": {},
   "outputs": [
    {
     "name": "stdout",
     "output_type": "stream",
     "text": [
      "Root Beer Float\n",
      "Root Beer Float\n",
      "Root Beer Float\n"
     ]
    }
   ],
   "source": [
    "#Assign one value to multiple variables\n",
    "\n",
    "x = y = z = 'Root Beer Float'\n",
    "print(x)\n",
    "print(y)\n",
    "print(z)"
   ]
  },
  {
   "cell_type": "code",
   "execution_count": 61,
   "id": "fda25829-a9ff-4242-a2dd-46d95afd7981",
   "metadata": {},
   "outputs": [
    {
     "name": "stdout",
     "output_type": "stream",
     "text": [
      "Chocolate\n",
      "Vanilla\n",
      "Rocky Road\n",
      "['Chocolate', 'Vanilla', 'Rocky Road']\n",
      "['Chocolate', 'Vanilla', 'Rocky Road']\n"
     ]
    }
   ],
   "source": [
    "ice_cream = ['Chocolate','Vanilla','Rocky Road']\n",
    "x,y,z = ice_cream\n",
    "print(x)\n",
    "print(y)\n",
    "print(z)\n",
    "print(ice_cream)\n",
    "x = ice_cream\n",
    "print(x)"
   ]
  },
  {
   "cell_type": "code",
   "execution_count": 63,
   "id": "a4b9bab8-3c4b-4fc0-b891-97180dc6080c",
   "metadata": {},
   "outputs": [
    {
     "name": "stdout",
     "output_type": "stream",
     "text": [
      "['Chocolate', 'Vanilla', 'Rocky Road']\n"
     ]
    }
   ],
   "source": [
    "print(x)"
   ]
  },
  {
   "cell_type": "code",
   "execution_count": null,
   "id": "b29b6910-eb11-4b5a-ba38-5af50f3f4d97",
   "metadata": {},
   "outputs": [],
   "source": [
    "# Camel Case\n",
    "#Test Variable Case\n",
    "\n",
    "testVariableCase = 'Vanilla Swirl'"
   ]
  },
  {
   "cell_type": "code",
   "execution_count": null,
   "id": "7042f740-59b7-4058-9bda-b79158922bbf",
   "metadata": {},
   "outputs": [],
   "source": [
    "# Pascal Case\n",
    "#Test Variable Case\n",
    "\n",
    "TestVariableCase = 'Vanilla Swirl'"
   ]
  },
  {
   "cell_type": "code",
   "execution_count": null,
   "id": "898e774f-ebb9-40f6-8e4a-dcdaa5bdc471",
   "metadata": {},
   "outputs": [],
   "source": [
    "# Snake Case\n",
    "#Test Variable Case\n",
    "\n",
    "test_variable:case = 'Vanilla Swirl'"
   ]
  },
  {
   "cell_type": "code",
   "execution_count": null,
   "id": "89fb40c1-a78c-4a5c-961b-e1ce0f45e584",
   "metadata": {},
   "outputs": [],
   "source": [
    "#Good ways to write variables\n",
    "\n",
    "testvar = 'Vanilla Swirl'\n",
    "test_var = 'Vanilla Swirl'\n",
    "_test_var = 'Vanilla Swirl'\n",
    "testVar = 'Vanilla Swirl'\n",
    "TestVar = 'Vanilla Swirl'\n",
    "testVar2 = 'Vanilla Swirl'\n",
    "\n",
    "# Do not use\n",
    "2testvar = 'Vanilla Swirl' X\n",
    "test-var = 'Vanilla Swirl'\n",
    "test var = 'Vanilla Swirl'\n",
    "test,var = 'Vanilla Swirl'"
   ]
  },
  {
   "cell_type": "code",
   "execution_count": 71,
   "id": "44d394de-7ef6-4738-aee9-3678e77c4322",
   "metadata": {},
   "outputs": [
    {
     "name": "stdout",
     "output_type": "stream",
     "text": [
      "Ice Cream is my favorite.\n"
     ]
    }
   ],
   "source": [
    "x = 'Ice Cream is my favorite' + '.'\n",
    "print(x)"
   ]
  },
  {
   "cell_type": "code",
   "execution_count": 75,
   "id": "06812155-ba9e-422b-9329-e9526a93fda5",
   "metadata": {},
   "outputs": [
    {
     "name": "stdout",
     "output_type": "stream",
     "text": [
      "5\n"
     ]
    }
   ],
   "source": [
    "y = 3 + 2\n",
    "print(y)"
   ]
  },
  {
   "cell_type": "code",
   "execution_count": 81,
   "id": "69fe555e-e2ed-4ee4-9391-5a731b5b0948",
   "metadata": {},
   "outputs": [
    {
     "name": "stdout",
     "output_type": "stream",
     "text": [
      "Ice Cream is my favorite.Ice Cream\n"
     ]
    }
   ],
   "source": [
    "x = 'Ice Cream'\n",
    "y = ' is'\n",
    "z = ' my favorite.'\n",
    "print(x+y+z+x)"
   ]
  },
  {
   "cell_type": "code",
   "execution_count": 83,
   "id": "8f43ab03-e97d-4b5b-ba8c-cd6e3519620e",
   "metadata": {},
   "outputs": [
    {
     "name": "stdout",
     "output_type": "stream",
     "text": [
      "6\n"
     ]
    }
   ],
   "source": [
    "x = 1\n",
    "y = 3\n",
    "z = 2\n",
    "print(y+x+z)"
   ]
  },
  {
   "cell_type": "code",
   "execution_count": 85,
   "id": "244d6315-2999-4ade-b421-8b8254952e6b",
   "metadata": {},
   "outputs": [
    {
     "name": "stdout",
     "output_type": "stream",
     "text": [
      "Ice Cream 2\n"
     ]
    }
   ],
   "source": [
    "x = 'Ice Cream'\n",
    "y = 2\n",
    "print(x,y)"
   ]
  },
  {
   "cell_type": "code",
   "execution_count": null,
   "id": "7428fa5d-3afc-4ea0-95f4-6d1c7f9e0e78",
   "metadata": {},
   "outputs": [],
   "source": []
  },
  {
   "cell_type": "code",
   "execution_count": null,
   "id": "796ff5b9-b031-4e95-9a18-bc2b89e28572",
   "metadata": {},
   "outputs": [],
   "source": []
  },
  {
   "cell_type": "code",
   "execution_count": null,
   "id": "fc47baec-02cb-400f-badb-77caafcda98b",
   "metadata": {},
   "outputs": [],
   "source": []
  },
  {
   "cell_type": "code",
   "execution_count": null,
   "id": "fbac5d52-22d7-4787-81a2-1706229ebb82",
   "metadata": {},
   "outputs": [],
   "source": []
  },
  {
   "cell_type": "code",
   "execution_count": null,
   "id": "c362c732-0b41-430d-b762-6913ebdedf75",
   "metadata": {},
   "outputs": [],
   "source": []
  },
  {
   "cell_type": "code",
   "execution_count": null,
   "id": "cf185dd5-b5a3-4f0f-9fc5-10e3c80df93c",
   "metadata": {},
   "outputs": [],
   "source": []
  },
  {
   "cell_type": "code",
   "execution_count": null,
   "id": "aa308cd0-3fdb-47ab-b5ab-05b6e2a4f68c",
   "metadata": {},
   "outputs": [],
   "source": []
  }
 ],
 "metadata": {
  "kernelspec": {
   "display_name": "Python [conda env:base] *",
   "language": "python",
   "name": "conda-base-py"
  },
  "language_info": {
   "codemirror_mode": {
    "name": "ipython",
    "version": 3
   },
   "file_extension": ".py",
   "mimetype": "text/x-python",
   "name": "python",
   "nbconvert_exporter": "python",
   "pygments_lexer": "ipython3",
   "version": "3.12.7"
  }
 },
 "nbformat": 4,
 "nbformat_minor": 5
}
