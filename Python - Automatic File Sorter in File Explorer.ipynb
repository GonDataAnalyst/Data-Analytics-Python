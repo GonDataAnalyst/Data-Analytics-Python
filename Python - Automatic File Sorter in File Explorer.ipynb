{
 "cells": [
  {
   "cell_type": "code",
   "execution_count": 2,
   "id": "c19726b7-a837-4c48-b6dd-2827294df05f",
   "metadata": {},
   "outputs": [],
   "source": [
    "import os, shutil"
   ]
  },
  {
   "cell_type": "code",
   "execution_count": 20,
   "id": "a4369c73-a4b2-4e66-82d6-c421c40a4af8",
   "metadata": {},
   "outputs": [],
   "source": [
    "path = r\"C:/Users/GonDesktop/Documents/Python Tutorial/\""
   ]
  },
  {
   "cell_type": "code",
   "execution_count": 22,
   "id": "bca99de7-dbf8-4552-a8e4-eefe1c6b1460",
   "metadata": {},
   "outputs": [
    {
     "data": {
      "text/plain": [
       "['202412032331453145.jpg',\n",
       " '202412260936593659.png',\n",
       " '3e664a4e-ca8d-4934-bfab-ed92636c38a0.jpg',\n",
       " '4k-ultra-hd-christmas.jpg',\n",
       " '6735f0066ec75_43232-(390).jpg',\n",
       " '8fed851d-a3b0-4dbb-ba5c-1ede11baaaca.jpg',\n",
       " 'Anaconda3-2024.10-1-Windows-x86_64 (1).exe',\n",
       " 'Anaconda3-2024.10-1-Windows-x86_64.exe',\n",
       " 'Apocolypse Food Prep - Relationship Tutorial.xlsx',\n",
       " 'BlackDesert_Installer_SA.exe',\n",
       " 'calendar.csv',\n",
       " 'calendar.csv.zip',\n",
       " 'CURP_GONZALO COMERON.pdf',\n",
       " 'DALL·E 2024-12-08 13.25.47 - A breathtaking ultra-HD Christmas-themed desktop wallpaper. The scene depicts a magical winter wonderland at twilight, with a grand Christmas tree dec.webp',\n",
       " 'DALL·E 2024-12-08 13.26.00 - A breathtaking ultra-high-resolution Christmas-themed desktop wallpaper. The scene captures a dreamy snow-covered landscape with a cozy log cabin illu.webp',\n",
       " 'DALL·E 2024-12-08 13.26.53 - A stunning ultra-high-resolution 4K Christmas-themed desktop wallpaper (3840x2160). The scene features a serene snow-covered village at twilight, with.webp',\n",
       " 'directory.csv',\n",
       " 'directory.csv.zip',\n",
       " 'Formula Excel Template.xlsx',\n",
       " 'Git-2.47.1-64-bit.exe',\n",
       " 'HSBC_TRT (2024-2025)_GONZALO COMERON.pdf',\n",
       " 'listings.csv',\n",
       " 'listings.csv.zip',\n",
       " 'msodbcsql.msi',\n",
       " 'NordVPNSetup.exe',\n",
       " 'Pivot Table Sales (1).xlsx',\n",
       " 'Pivot Table Sales (2).xlsx',\n",
       " 'Pivot Table Sales.xlsx',\n",
       " 'reviews.csv',\n",
       " 'reviews.csv.zip',\n",
       " 'Sales.csv.zip',\n",
       " 'SQL2022-SSEI-Expr.exe',\n",
       " 'SQLEXPR_x64_ENU',\n",
       " 'SQLEXPR_x64_ENU.exe',\n",
       " 'SSMS-Setup-ENU.exe',\n",
       " 'TableauPublicDesktop-64bit-2024-3-0.exe',\n",
       " 'TP1 Ingenieria de Software - Grupo 3.pdf',\n",
       " 'vgsales.csv',\n",
       " 'vgsales.csv.zip',\n",
       " 'VSCodeUserSetup-x64-1.96.2.exe']"
      ]
     },
     "execution_count": 22,
     "metadata": {},
     "output_type": "execute_result"
    }
   ],
   "source": [
    "os.listdir(path)"
   ]
  },
  {
   "cell_type": "code",
   "execution_count": 32,
   "id": "4bea927a-a841-45c8-8864-69d03ed14deb",
   "metadata": {},
   "outputs": [],
   "source": [
    "folder_names = ['csv files','image files', 'text files']\n",
    "\n",
    "file_name = os.listdir(path)\n",
    "\n",
    "for loop in range(0,3):\n",
    "    if not os.path.exists(path + folder_names[loop]):\n",
    "        print(path + folder_names[loop])\n",
    "        os.makedirs(path + folder_names[loop])\n",
    "\n",
    "for file in file_name:\n",
    "    if \".csv\" in file and not os.path.exists(path + \"csv files/\" + file):\n",
    "        shutil.move(path + file, path + \"csv files/\" + file)\n",
    "    elif \".png\" in file and not os.path.exists(path + \"image files/\" + file):\n",
    "        shutil.move(path + file, path + \"image files/\" + file)\n",
    "    elif \".txt\" in file and not os.path.exists(path + \"text files/\" + file):\n",
    "        shutil.move(path + file, path + \"text files/\" + file)"
   ]
  },
  {
   "cell_type": "code",
   "execution_count": null,
   "id": "c8dcb5ee-1a02-43a8-85ee-6285e30e0199",
   "metadata": {},
   "outputs": [],
   "source": []
  },
  {
   "cell_type": "code",
   "execution_count": null,
   "id": "2c8f287a-4014-419b-a686-e153b2755630",
   "metadata": {},
   "outputs": [],
   "source": []
  },
  {
   "cell_type": "code",
   "execution_count": null,
   "id": "8453e0d6-ec6a-415b-9990-675b67c551d0",
   "metadata": {},
   "outputs": [],
   "source": []
  },
  {
   "cell_type": "code",
   "execution_count": null,
   "id": "8dbeab66-39ce-4e0e-90d8-6570317f7fae",
   "metadata": {},
   "outputs": [],
   "source": []
  },
  {
   "cell_type": "code",
   "execution_count": null,
   "id": "af3b78c8-20e7-4202-92f5-6bb17ccc491d",
   "metadata": {},
   "outputs": [],
   "source": []
  },
  {
   "cell_type": "code",
   "execution_count": null,
   "id": "415590d4-0b5a-445c-af65-ca0faa4d768a",
   "metadata": {},
   "outputs": [],
   "source": []
  },
  {
   "cell_type": "code",
   "execution_count": null,
   "id": "6806e543-0e8e-4d10-bcf3-8842647d14aa",
   "metadata": {},
   "outputs": [],
   "source": []
  },
  {
   "cell_type": "code",
   "execution_count": null,
   "id": "e1b4823a-84a1-4f28-9c6b-bfe102a05bdd",
   "metadata": {},
   "outputs": [],
   "source": []
  },
  {
   "cell_type": "code",
   "execution_count": null,
   "id": "35188c1a-325f-4978-b716-c281984d8720",
   "metadata": {},
   "outputs": [],
   "source": []
  },
  {
   "cell_type": "code",
   "execution_count": null,
   "id": "7dbadfe1-6a21-46b4-8c8b-46ad6f4f4ec6",
   "metadata": {},
   "outputs": [],
   "source": []
  }
 ],
 "metadata": {
  "kernelspec": {
   "display_name": "Python [conda env:base] *",
   "language": "python",
   "name": "conda-base-py"
  },
  "language_info": {
   "codemirror_mode": {
    "name": "ipython",
    "version": 3
   },
   "file_extension": ".py",
   "mimetype": "text/x-python",
   "name": "python",
   "nbconvert_exporter": "python",
   "pygments_lexer": "ipython3",
   "version": "3.12.7"
  }
 },
 "nbformat": 4,
 "nbformat_minor": 5
}
