{
 "cells": [
  {
   "cell_type": "code",
   "execution_count": 2,
   "id": "d9621e64-6761-467c-ba75-cda00eff75d7",
   "metadata": {},
   "outputs": [
    {
     "name": "stdout",
     "output_type": "stream",
     "text": [
      "0\n",
      "1\n",
      "2\n",
      "3\n",
      "4\n"
     ]
    }
   ],
   "source": [
    "number = 0\n",
    "\n",
    "while number < 5:\n",
    "    print(number)\n",
    "    number = number + 1"
   ]
  },
  {
   "cell_type": "code",
   "execution_count": 4,
   "id": "b050c3ab-f3e5-434c-bb73-e672a49077c3",
   "metadata": {},
   "outputs": [
    {
     "name": "stdout",
     "output_type": "stream",
     "text": [
      "0\n",
      "1\n",
      "2\n",
      "3\n"
     ]
    }
   ],
   "source": [
    "number = 0\n",
    "\n",
    "while number < 5:\n",
    "    print(number)\n",
    "    if number == 3:\n",
    "        break\n",
    "    number = number + 1"
   ]
  },
  {
   "cell_type": "code",
   "execution_count": 8,
   "id": "e0e8b807-841a-4e57-bef6-4f248fcce37d",
   "metadata": {},
   "outputs": [
    {
     "name": "stdout",
     "output_type": "stream",
     "text": [
      "0\n",
      "1\n",
      "2\n",
      "3\n",
      "4\n",
      "No longer < 5\n"
     ]
    }
   ],
   "source": [
    "number = 0\n",
    "\n",
    "while number < 5:\n",
    "    print(number)\n",
    "    if number == 6:\n",
    "        break\n",
    "    number = number + 1\n",
    "else:\n",
    "    print('No longer < 5')"
   ]
  },
  {
   "cell_type": "code",
   "execution_count": 10,
   "id": "47ee6913-d95d-4f81-9f3e-5ac93ecca25a",
   "metadata": {},
   "outputs": [
    {
     "name": "stdout",
     "output_type": "stream",
     "text": [
      "0\n",
      "1\n",
      "2\n",
      "3\n"
     ]
    }
   ],
   "source": [
    "number = 0\n",
    "\n",
    "while number < 5:\n",
    "    print(number)\n",
    "    if number == 3:\n",
    "        break\n",
    "    number = number + 1\n",
    "else:\n",
    "    print('No longer < 5')"
   ]
  },
  {
   "cell_type": "code",
   "execution_count": null,
   "id": "d92be81c-c8cc-4eef-a45e-69c95cd08cad",
   "metadata": {},
   "outputs": [],
   "source": [
    "number = 0\n",
    "\n",
    "while number < 5:\n",
    "    number = number + 1\n",
    "    if number == 3:\n",
    "        continue\n",
    "    print(number)\n",
    "else:\n",
    "    print('No longer < 5')"
   ]
  },
  {
   "cell_type": "code",
   "execution_count": null,
   "id": "e924ddcd-483f-42aa-9df3-6f1ab5be5ba4",
   "metadata": {},
   "outputs": [],
   "source": []
  },
  {
   "cell_type": "code",
   "execution_count": null,
   "id": "20b9a29e-1504-4e43-b240-9fa2fdf8b3fc",
   "metadata": {},
   "outputs": [],
   "source": []
  },
  {
   "cell_type": "code",
   "execution_count": null,
   "id": "fd01db45-fbf4-4a2a-97dd-caa6b406b536",
   "metadata": {},
   "outputs": [],
   "source": []
  },
  {
   "cell_type": "code",
   "execution_count": null,
   "id": "d3b63f8b-9c76-473e-8d50-06238dbd4489",
   "metadata": {},
   "outputs": [],
   "source": []
  },
  {
   "cell_type": "code",
   "execution_count": null,
   "id": "a690e493-89f7-4901-80cc-0d5e4e18be65",
   "metadata": {},
   "outputs": [],
   "source": []
  },
  {
   "cell_type": "code",
   "execution_count": null,
   "id": "5b616a53-5751-4b32-aa13-a9c0da5abded",
   "metadata": {},
   "outputs": [],
   "source": []
  },
  {
   "cell_type": "code",
   "execution_count": null,
   "id": "d61ff013-708d-486a-9946-0020520844f9",
   "metadata": {},
   "outputs": [],
   "source": []
  },
  {
   "cell_type": "code",
   "execution_count": null,
   "id": "e4c53b37-5d87-4ef6-b1e8-394f4f9fb125",
   "metadata": {},
   "outputs": [],
   "source": []
  },
  {
   "cell_type": "code",
   "execution_count": null,
   "id": "2cab7d89-b065-4080-9e06-d020e7321309",
   "metadata": {},
   "outputs": [],
   "source": []
  }
 ],
 "metadata": {
  "kernelspec": {
   "display_name": "Python [conda env:base] *",
   "language": "python",
   "name": "conda-base-py"
  },
  "language_info": {
   "codemirror_mode": {
    "name": "ipython",
    "version": 3
   },
   "file_extension": ".py",
   "mimetype": "text/x-python",
   "name": "python",
   "nbconvert_exporter": "python",
   "pygments_lexer": "ipython3",
   "version": "3.12.7"
  }
 },
 "nbformat": 4,
 "nbformat_minor": 5
}
