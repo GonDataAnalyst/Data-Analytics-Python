{
 "cells": [
  {
   "cell_type": "markdown",
   "id": "d33a8447-b309-4f4f-a40f-578b84abc6a1",
   "metadata": {},
   "source": [
    "Data Types"
   ]
  },
  {
   "cell_type": "code",
   "execution_count": 3,
   "id": "26d29952-e1d9-432f-8576-cd9c2e909426",
   "metadata": {},
   "outputs": [
    {
     "data": {
      "text/plain": [
       "int"
      ]
     },
     "execution_count": 3,
     "metadata": {},
     "output_type": "execute_result"
    }
   ],
   "source": [
    "type(12)"
   ]
  },
  {
   "cell_type": "code",
   "execution_count": 5,
   "id": "09770d6e-04df-4f49-973b-746f908f403e",
   "metadata": {},
   "outputs": [
    {
     "data": {
      "text/plain": [
       "int"
      ]
     },
     "execution_count": 5,
     "metadata": {},
     "output_type": "execute_result"
    }
   ],
   "source": [
    "type(-12)"
   ]
  },
  {
   "cell_type": "code",
   "execution_count": 13,
   "id": "52cc601e-b221-448b-b9f8-1dc4bc4a6950",
   "metadata": {},
   "outputs": [
    {
     "data": {
      "text/plain": [
       "int"
      ]
     },
     "execution_count": 13,
     "metadata": {},
     "output_type": "execute_result"
    }
   ],
   "source": [
    "type(-23 + 100)"
   ]
  },
  {
   "cell_type": "code",
   "execution_count": 15,
   "id": "fd7597a5-33b3-421f-b5e5-980f1a35572f",
   "metadata": {},
   "outputs": [
    {
     "data": {
      "text/plain": [
       "float"
      ]
     },
     "execution_count": 15,
     "metadata": {},
     "output_type": "execute_result"
    }
   ],
   "source": [
    "type(-23 + 100.25)"
   ]
  },
  {
   "cell_type": "code",
   "execution_count": 17,
   "id": "51a8d7e0-27f3-4c5a-88cc-61b47e0199e5",
   "metadata": {},
   "outputs": [
    {
     "data": {
      "text/plain": [
       "complex"
      ]
     },
     "execution_count": 17,
     "metadata": {},
     "output_type": "execute_result"
    }
   ],
   "source": [
    "type(-23 + 3j)"
   ]
  },
  {
   "cell_type": "code",
   "execution_count": null,
   "id": "800dd683-783f-4e21-89e1-0195d337abe1",
   "metadata": {},
   "outputs": [],
   "source": []
  },
  {
   "cell_type": "code",
   "execution_count": 28,
   "id": "ed7c0008-129e-4acd-8caf-d60512a0ec71",
   "metadata": {},
   "outputs": [
    {
     "data": {
      "text/plain": [
       "bool"
      ]
     },
     "execution_count": 28,
     "metadata": {},
     "output_type": "execute_result"
    }
   ],
   "source": [
    "# Boolean\n",
    "type(1 > 5)"
   ]
  },
  {
   "cell_type": "code",
   "execution_count": 34,
   "id": "7ddf9d9d-ccf0-4ea4-b6bb-c9319e85d85e",
   "metadata": {},
   "outputs": [
    {
     "data": {
      "text/plain": [
       "True"
      ]
     },
     "execution_count": 34,
     "metadata": {},
     "output_type": "execute_result"
    }
   ],
   "source": [
    "1 == 1"
   ]
  },
  {
   "cell_type": "code",
   "execution_count": 36,
   "id": "2e24cf1a-ffca-4131-b12c-158fc157ad35",
   "metadata": {},
   "outputs": [
    {
     "data": {
      "text/plain": [
       "False"
      ]
     },
     "execution_count": 36,
     "metadata": {},
     "output_type": "execute_result"
    }
   ],
   "source": [
    "2 == 3"
   ]
  },
  {
   "cell_type": "code",
   "execution_count": 40,
   "id": "64de89dc-0411-40c0-9367-296c55e629bc",
   "metadata": {},
   "outputs": [
    {
     "data": {
      "text/plain": [
       "'Single Quote'"
      ]
     },
     "execution_count": 40,
     "metadata": {},
     "output_type": "execute_result"
    }
   ],
   "source": [
    "# Strings\n",
    "\n",
    "'Single Quote'"
   ]
  },
  {
   "cell_type": "code",
   "execution_count": 42,
   "id": "267f6caf-0fae-4376-95e3-dfd37dcac672",
   "metadata": {},
   "outputs": [
    {
     "data": {
      "text/plain": [
       "'Double Quote'"
      ]
     },
     "execution_count": 42,
     "metadata": {},
     "output_type": "execute_result"
    }
   ],
   "source": [
    "\"Double Quote\""
   ]
  },
  {
   "cell_type": "code",
   "execution_count": 50,
   "id": "6b2b3d08-8cc3-43f1-9087-09da9212b501",
   "metadata": {},
   "outputs": [
    {
     "data": {
      "text/plain": [
       "\"\\nT'e asd mrns,\\ndkjajsd asdew,\\nkasdj '.\\n\\n\""
      ]
     },
     "execution_count": 50,
     "metadata": {},
     "output_type": "execute_result"
    }
   ],
   "source": [
    "\"\"\"\n",
    "T'e asd mrns,\n",
    "dkjajsd asdew,\n",
    "kasdj '.\n",
    "\n",
    "\"\"\""
   ]
  },
  {
   "cell_type": "code",
   "execution_count": 46,
   "id": "75eab9a4-a258-46b2-9fbc-4fe935e2ca5f",
   "metadata": {},
   "outputs": [
    {
     "name": "stdout",
     "output_type": "stream",
     "text": [
      "\n",
      "The asd mrns,\n",
      "dkjajsd asdew,\n",
      "kasdj.\n",
      "\n",
      "\n"
     ]
    }
   ],
   "source": [
    "multiline = \"\"\"\n",
    "The asd mrns,\n",
    "dkjajsd asdew,\n",
    "kasdj.\n",
    "\n",
    "\"\"\"\n",
    "\n",
    "print(multiline)"
   ]
  },
  {
   "cell_type": "code",
   "execution_count": 48,
   "id": "39203ddd-2be7-4ada-9098-815df948bdef",
   "metadata": {},
   "outputs": [
    {
     "data": {
      "text/plain": [
       "\"I've always wanted to eat a gallon of ice cream.\""
      ]
     },
     "execution_count": 48,
     "metadata": {},
     "output_type": "execute_result"
    }
   ],
   "source": [
    "\"I've always wanted to eat a gallon of ice cream.\""
   ]
  },
  {
   "cell_type": "code",
   "execution_count": 61,
   "id": "48decaf9-ff98-431c-9161-778eee2ef931",
   "metadata": {},
   "outputs": [
    {
     "data": {
      "text/plain": [
       "\"\\nI've always wanted to eat a gallon of ice cream.\\n\""
      ]
     },
     "execution_count": 61,
     "metadata": {},
     "output_type": "execute_result"
    }
   ],
   "source": [
    "\"\"\"\n",
    "I've always wanted to eat a gallon of ice cream.\n",
    "\"\"\""
   ]
  },
  {
   "cell_type": "code",
   "execution_count": 63,
   "id": "6668dfc2-5718-41a2-8aa4-66ee128104ad",
   "metadata": {},
   "outputs": [
    {
     "data": {
      "text/plain": [
       "str"
      ]
     },
     "execution_count": 63,
     "metadata": {},
     "output_type": "execute_result"
    }
   ],
   "source": [
    "type(multiline)"
   ]
  },
  {
   "cell_type": "code",
   "execution_count": 7,
   "id": "f2c23753-fa8a-4bd0-98e8-6aebae704ea6",
   "metadata": {},
   "outputs": [
    {
     "name": "stdout",
     "output_type": "stream",
     "text": [
      "Hello\n",
      "o\n",
      "llo \n"
     ]
    }
   ],
   "source": [
    "a = 'Hello World!'\n",
    "\n",
    "print(a[:5])\n",
    "print(a[4])\n",
    "print(a[2:6])"
   ]
  },
  {
   "cell_type": "code",
   "execution_count": 9,
   "id": "74386b87-60e5-4f07-8a5e-2d70d8c8b816",
   "metadata": {},
   "outputs": [
    {
     "data": {
      "text/plain": [
       "'Hello World!Hello World!Hello World!'"
      ]
     },
     "execution_count": 9,
     "metadata": {},
     "output_type": "execute_result"
    }
   ],
   "source": [
    "a * 3"
   ]
  },
  {
   "cell_type": "code",
   "execution_count": 20,
   "id": "32314f4b-1539-453c-998c-cafec36a76ed",
   "metadata": {},
   "outputs": [
    {
     "data": {
      "text/plain": [
       "'Hello World!Hello World!'"
      ]
     },
     "execution_count": 20,
     "metadata": {},
     "output_type": "execute_result"
    }
   ],
   "source": [
    "a + a"
   ]
  },
  {
   "cell_type": "code",
   "execution_count": null,
   "id": "04e8d37e-2bb2-4b8e-88d9-d313d5360400",
   "metadata": {},
   "outputs": [],
   "source": []
  },
  {
   "cell_type": "code",
   "execution_count": 22,
   "id": "ef302c3f-cfd2-4ff4-b467-233862d72220",
   "metadata": {},
   "outputs": [
    {
     "data": {
      "text/plain": [
       "[1, 2, 3]"
      ]
     },
     "execution_count": 22,
     "metadata": {},
     "output_type": "execute_result"
    }
   ],
   "source": [
    "# List / can be modified\n",
    "\n",
    "[1,2,3]"
   ]
  },
  {
   "cell_type": "code",
   "execution_count": 24,
   "id": "6ef5c4c4-940c-4966-94d7-4c16670bcf20",
   "metadata": {},
   "outputs": [
    {
     "data": {
      "text/plain": [
       "['Cookie Dough', 'Strawberry', 'Chocolate']"
      ]
     },
     "execution_count": 24,
     "metadata": {},
     "output_type": "execute_result"
    }
   ],
   "source": [
    "['Cookie Dough','Strawberry','Chocolate']"
   ]
  },
  {
   "cell_type": "code",
   "execution_count": 30,
   "id": "b2461e22-71ff-4eff-90cf-15485d7c6652",
   "metadata": {},
   "outputs": [
    {
     "data": {
      "text/plain": [
       "['Vanilla', 3, ['Scoops', 'Spoon'], True]"
      ]
     },
     "execution_count": 30,
     "metadata": {},
     "output_type": "execute_result"
    }
   ],
   "source": [
    "['Vanilla',3,['Scoops','Spoon'],True]"
   ]
  },
  {
   "cell_type": "code",
   "execution_count": 32,
   "id": "e8784851-d8fa-4378-a8db-4e89b5cbfc5b",
   "metadata": {},
   "outputs": [],
   "source": [
    "ice_cream = ['Vanilla',3,['Scoops','Spoon'],True]"
   ]
  },
  {
   "cell_type": "code",
   "execution_count": 42,
   "id": "05d21e04-e4c9-491f-ba54-f7797ccd09fe",
   "metadata": {},
   "outputs": [],
   "source": [
    "ice_cream.append('Salted Caramel')"
   ]
  },
  {
   "cell_type": "code",
   "execution_count": 44,
   "id": "2f9330cb-ecd8-4ba4-905d-5c05f6c63c3b",
   "metadata": {},
   "outputs": [
    {
     "name": "stdout",
     "output_type": "stream",
     "text": [
      "['Vanilla', 3, ['Scoops', 'Spoon'], True, 'Salted Caramel']\n"
     ]
    }
   ],
   "source": [
    "print(ice_cream)"
   ]
  },
  {
   "cell_type": "code",
   "execution_count": 46,
   "id": "38c7e39e-e6a5-483c-a620-d7dbf37eb87c",
   "metadata": {},
   "outputs": [],
   "source": [
    "ice_cream[0] = 'Butter Pecan'"
   ]
  },
  {
   "cell_type": "code",
   "execution_count": 48,
   "id": "171db6d4-e36f-427d-9cc5-5aa35bb1dfd6",
   "metadata": {},
   "outputs": [
    {
     "name": "stdout",
     "output_type": "stream",
     "text": [
      "['Butter Pecan', 3, ['Scoops', 'Spoon'], True, 'Salted Caramel']\n"
     ]
    }
   ],
   "source": [
    "print(ice_cream)"
   ]
  },
  {
   "cell_type": "code",
   "execution_count": 50,
   "id": "9a795c38-c0f7-451d-a3b1-488197bf74ff",
   "metadata": {},
   "outputs": [],
   "source": [
    "nested_list = ['Vanilla',3,['Scoops','Spoon'],True]"
   ]
  },
  {
   "cell_type": "code",
   "execution_count": 54,
   "id": "9dbbea74-246b-4744-8c84-3131cbdd9e93",
   "metadata": {},
   "outputs": [
    {
     "data": {
      "text/plain": [
       "'Spoon'"
      ]
     },
     "execution_count": 54,
     "metadata": {},
     "output_type": "execute_result"
    }
   ],
   "source": [
    "nested_list[2][1]"
   ]
  },
  {
   "cell_type": "code",
   "execution_count": null,
   "id": "5f9a1e35-d62f-482c-8954-3a86631bb3e4",
   "metadata": {},
   "outputs": [],
   "source": []
  },
  {
   "cell_type": "code",
   "execution_count": null,
   "id": "d51d8f03-2bf7-4199-ad67-92a611c99044",
   "metadata": {},
   "outputs": [],
   "source": [
    "# Tuple / cannot be modified"
   ]
  },
  {
   "cell_type": "code",
   "execution_count": 65,
   "id": "a45497e6-50df-4224-9e2b-191be4f2e8f2",
   "metadata": {},
   "outputs": [],
   "source": [
    "tuple_scoops = (1,2,3,2,1)"
   ]
  },
  {
   "cell_type": "code",
   "execution_count": 67,
   "id": "0a6a5767-4002-4034-9bca-d0fd317abeb4",
   "metadata": {},
   "outputs": [
    {
     "data": {
      "text/plain": [
       "tuple"
      ]
     },
     "execution_count": 67,
     "metadata": {},
     "output_type": "execute_result"
    }
   ],
   "source": [
    "type(tuple_scoops)"
   ]
  },
  {
   "cell_type": "code",
   "execution_count": 69,
   "id": "a69fd85a-ddb1-4471-9197-802c62a91bce",
   "metadata": {},
   "outputs": [
    {
     "data": {
      "text/plain": [
       "1"
      ]
     },
     "execution_count": 69,
     "metadata": {},
     "output_type": "execute_result"
    }
   ],
   "source": [
    "tuple_scoops[0]"
   ]
  },
  {
   "cell_type": "code",
   "execution_count": null,
   "id": "fb7d3979-ee80-4b29-a2f5-864d1555032c",
   "metadata": {},
   "outputs": [],
   "source": []
  },
  {
   "cell_type": "code",
   "execution_count": null,
   "id": "2eed5289-3e23-478b-9a29-300a41a7411c",
   "metadata": {},
   "outputs": [],
   "source": [
    "# Sets / no index / unordered"
   ]
  },
  {
   "cell_type": "code",
   "execution_count": 73,
   "id": "9886666d-4e45-42d6-9161-2119ef93c109",
   "metadata": {},
   "outputs": [],
   "source": [
    "daily_pints = {1,2,3}"
   ]
  },
  {
   "cell_type": "code",
   "execution_count": 75,
   "id": "2b07a620-1b5e-4814-86e7-997cd7b984bd",
   "metadata": {},
   "outputs": [
    {
     "data": {
      "text/plain": [
       "set"
      ]
     },
     "execution_count": 75,
     "metadata": {},
     "output_type": "execute_result"
    }
   ],
   "source": [
    "type(daily_pints)"
   ]
  },
  {
   "cell_type": "code",
   "execution_count": 77,
   "id": "b3ebd0b9-1912-454e-a543-d1b9ad1bf4fa",
   "metadata": {},
   "outputs": [
    {
     "name": "stdout",
     "output_type": "stream",
     "text": [
      "{1, 2, 3}\n"
     ]
    }
   ],
   "source": [
    "print(daily_pints)"
   ]
  },
  {
   "cell_type": "code",
   "execution_count": 81,
   "id": "8a100f41-2cf5-4a59-acb6-3cecb95f4705",
   "metadata": {},
   "outputs": [],
   "source": [
    "daily_pints_log = {1,2,3,4,5,6,7,8,9,10}"
   ]
  },
  {
   "cell_type": "code",
   "execution_count": 83,
   "id": "edd3fd42-eb1a-4dd9-972e-8c72e37d85f2",
   "metadata": {},
   "outputs": [
    {
     "name": "stdout",
     "output_type": "stream",
     "text": [
      "{1, 2, 3, 4, 5, 6, 7, 8, 9, 10}\n"
     ]
    }
   ],
   "source": [
    "print(daily_pints_log)"
   ]
  },
  {
   "cell_type": "code",
   "execution_count": 94,
   "id": "c51bcf66-b013-4de4-8bcb-adc002ccbf24",
   "metadata": {},
   "outputs": [],
   "source": [
    "wofes_daily_pints_log = {1,3,5,6,7,2,1,3,4,5}"
   ]
  },
  {
   "cell_type": "code",
   "execution_count": 96,
   "id": "0aaaff4e-5fdd-4f74-b1c1-fce36cb90e79",
   "metadata": {},
   "outputs": [
    {
     "name": "stdout",
     "output_type": "stream",
     "text": [
      "{1, 2, 3, 4, 5, 6, 7, 8, 9, 10}\n"
     ]
    }
   ],
   "source": [
    "print(wofes_daily_pints_log | daily_pints_log) "
   ]
  },
  {
   "cell_type": "code",
   "execution_count": 102,
   "id": "3955d5e1-8f73-4698-b6e4-a46b5dd761af",
   "metadata": {},
   "outputs": [
    {
     "name": "stdout",
     "output_type": "stream",
     "text": [
      "{1, 2, 3, 4, 5, 6, 7}\n"
     ]
    }
   ],
   "source": [
    "print(wofes_daily_pints_log & daily_pints_log) "
   ]
  },
  {
   "cell_type": "code",
   "execution_count": 104,
   "id": "eaca3665-72f1-44c5-b772-e62028f6b3f9",
   "metadata": {},
   "outputs": [
    {
     "name": "stdout",
     "output_type": "stream",
     "text": [
      "set()\n"
     ]
    }
   ],
   "source": [
    "print(wofes_daily_pints_log - daily_pints_log) "
   ]
  },
  {
   "cell_type": "code",
   "execution_count": 108,
   "id": "4d8d7dae-ebe9-4426-b18f-c2c3afb6e0dc",
   "metadata": {},
   "outputs": [
    {
     "name": "stdout",
     "output_type": "stream",
     "text": [
      "True\n"
     ]
    }
   ],
   "source": [
    "print(wofes_daily_pints_log < daily_pints_log) "
   ]
  },
  {
   "cell_type": "code",
   "execution_count": null,
   "id": "4111c5c1-151c-4b82-b89a-96b483157a77",
   "metadata": {},
   "outputs": [],
   "source": []
  },
  {
   "cell_type": "code",
   "execution_count": 118,
   "id": "6d508a60-7897-4f02-b206-ec754aa09a8e",
   "metadata": {},
   "outputs": [],
   "source": [
    "# Dictionaries\n",
    "# Key/Value Pair"
   ]
  },
  {
   "cell_type": "code",
   "execution_count": 120,
   "id": "521d8f67-175b-488e-a2f3-ba16f675d82f",
   "metadata": {},
   "outputs": [],
   "source": [
    "dict_cream = {'name' : 'Alex', 'weekly' : 5, 'favorite' : ['MCC','Chocolate']}"
   ]
  },
  {
   "cell_type": "code",
   "execution_count": 122,
   "id": "eb6e92be-72c2-44d4-8715-c4b119fc4270",
   "metadata": {},
   "outputs": [
    {
     "data": {
      "text/plain": [
       "dict"
      ]
     },
     "execution_count": 122,
     "metadata": {},
     "output_type": "execute_result"
    }
   ],
   "source": [
    "type(dict_cream)"
   ]
  },
  {
   "cell_type": "code",
   "execution_count": 124,
   "id": "fcf4a389-05e2-4794-a2c8-3deac09609c0",
   "metadata": {},
   "outputs": [
    {
     "name": "stdout",
     "output_type": "stream",
     "text": [
      "{'name': 'Alex', 'weekly': 5, 'favorite': ['MCC', 'Chocolate']}\n"
     ]
    }
   ],
   "source": [
    "print(dict_cream)"
   ]
  },
  {
   "cell_type": "code",
   "execution_count": 134,
   "id": "2327ee05-f634-41a1-8142-b234f0e6c679",
   "metadata": {},
   "outputs": [
    {
     "data": {
      "text/plain": [
       "dict_values(['Alex', 5, ['MCC', 'Chocolate']])"
      ]
     },
     "execution_count": 134,
     "metadata": {},
     "output_type": "execute_result"
    }
   ],
   "source": [
    "dict_cream.values()"
   ]
  },
  {
   "cell_type": "code",
   "execution_count": 136,
   "id": "feac734a-161d-4599-bbbb-d52203418f3a",
   "metadata": {},
   "outputs": [
    {
     "data": {
      "text/plain": [
       "dict_keys(['name', 'weekly', 'favorite'])"
      ]
     },
     "execution_count": 136,
     "metadata": {},
     "output_type": "execute_result"
    }
   ],
   "source": [
    "dict_cream.keys()"
   ]
  },
  {
   "cell_type": "code",
   "execution_count": 138,
   "id": "e87d2c0d-5abc-4084-9d64-bf6c7c10fdd4",
   "metadata": {},
   "outputs": [
    {
     "data": {
      "text/plain": [
       "dict_items([('name', 'Alex'), ('weekly', 5), ('favorite', ['MCC', 'Chocolate'])])"
      ]
     },
     "execution_count": 138,
     "metadata": {},
     "output_type": "execute_result"
    }
   ],
   "source": [
    "dict_cream.items()"
   ]
  },
  {
   "cell_type": "code",
   "execution_count": 140,
   "id": "f2f65d14-fd6f-439e-b3de-93b98a7becb0",
   "metadata": {},
   "outputs": [
    {
     "data": {
      "text/plain": [
       "'Alex'"
      ]
     },
     "execution_count": 140,
     "metadata": {},
     "output_type": "execute_result"
    }
   ],
   "source": [
    "dict_cream['name']"
   ]
  },
  {
   "cell_type": "code",
   "execution_count": 149,
   "id": "ffa0c24c-c08c-48d0-9fe5-fc211ec26edf",
   "metadata": {},
   "outputs": [
    {
     "name": "stdout",
     "output_type": "stream",
     "text": [
      "{'name': 'Gon', 'weekly': 5, 'favorite': ['MCC', 'Chocolate']}\n"
     ]
    }
   ],
   "source": [
    "dict_cream['name'] = 'Gon'\n",
    "print(dict_cream)"
   ]
  },
  {
   "cell_type": "code",
   "execution_count": 151,
   "id": "8307472c-e378-4014-b8e2-53c9d7be3aa0",
   "metadata": {},
   "outputs": [
    {
     "name": "stdout",
     "output_type": "stream",
     "text": [
      "{'name': 'Alex', 'weekly': 5, 'favorite': 300}\n"
     ]
    }
   ],
   "source": [
    "dict_cream.update({'name' : 'Alex', 'weekly' : 5, 'favorite' : 300})\n",
    "print(dict_cream)"
   ]
  },
  {
   "cell_type": "code",
   "execution_count": 155,
   "id": "57fa3cb2-e446-4dbe-a99f-c1c7ade4babe",
   "metadata": {},
   "outputs": [
    {
     "name": "stdout",
     "output_type": "stream",
     "text": [
      "{'name': 'Alex', 'weekly': 5}\n"
     ]
    }
   ],
   "source": [
    "del dict_cream['favorite']\n",
    "print(dict_cream)"
   ]
  },
  {
   "cell_type": "code",
   "execution_count": null,
   "id": "0d81f3d6-ff94-41a3-b855-da770c85d98d",
   "metadata": {},
   "outputs": [],
   "source": []
  },
  {
   "cell_type": "code",
   "execution_count": null,
   "id": "28364093-b2b3-47a4-bb8c-1ba5d27a4c82",
   "metadata": {},
   "outputs": [],
   "source": []
  },
  {
   "cell_type": "code",
   "execution_count": null,
   "id": "a139b925-8ea9-4262-a010-02ba00a1332b",
   "metadata": {},
   "outputs": [],
   "source": []
  },
  {
   "cell_type": "code",
   "execution_count": null,
   "id": "7d43a338-bfa5-45fb-a3cb-4f786597b19c",
   "metadata": {},
   "outputs": [],
   "source": []
  },
  {
   "cell_type": "code",
   "execution_count": null,
   "id": "6c1ae068-0808-428c-8871-ceea64c83446",
   "metadata": {},
   "outputs": [],
   "source": []
  }
 ],
 "metadata": {
  "kernelspec": {
   "display_name": "Python [conda env:base] *",
   "language": "python",
   "name": "conda-base-py"
  },
  "language_info": {
   "codemirror_mode": {
    "name": "ipython",
    "version": 3
   },
   "file_extension": ".py",
   "mimetype": "text/x-python",
   "name": "python",
   "nbconvert_exporter": "python",
   "pygments_lexer": "ipython3",
   "version": "3.12.7"
  }
 },
 "nbformat": 4,
 "nbformat_minor": 5
}
