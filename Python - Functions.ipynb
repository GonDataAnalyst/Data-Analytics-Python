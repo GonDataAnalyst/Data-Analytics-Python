{
 "cells": [
  {
   "cell_type": "code",
   "execution_count": 4,
   "id": "84872219-dba6-41a7-8b6d-3f1e0075a890",
   "metadata": {},
   "outputs": [
    {
     "name": "stdout",
     "output_type": "stream",
     "text": [
      "I did it!\n"
     ]
    }
   ],
   "source": [
    "def first_func():\n",
    "    print('I did it!')\n",
    "\n",
    "first_func()"
   ]
  },
  {
   "cell_type": "code",
   "execution_count": 6,
   "id": "6bb5709f-8672-4f62-a9c7-7b339cec971e",
   "metadata": {},
   "outputs": [
    {
     "name": "stdout",
     "output_type": "stream",
     "text": [
      "25\n"
     ]
    }
   ],
   "source": [
    "def number_squared(number):\n",
    "    print(number**2)\n",
    "\n",
    "number_squared(5)"
   ]
  },
  {
   "cell_type": "code",
   "execution_count": 10,
   "id": "0ac103d9-931b-4e76-bf35-0042debc7384",
   "metadata": {},
   "outputs": [
    {
     "name": "stdout",
     "output_type": "stream",
     "text": [
      "125\n"
     ]
    }
   ],
   "source": [
    "def number_squared_cust(number,power):\n",
    "    print(number**power)\n",
    "\n",
    "number_squared_cust(5,3)"
   ]
  },
  {
   "cell_type": "code",
   "execution_count": 16,
   "id": "6cb03647-54c2-4fd9-a081-356af19f1d11",
   "metadata": {},
   "outputs": [
    {
     "name": "stdout",
     "output_type": "stream",
     "text": [
      "30\n"
     ]
    }
   ],
   "source": [
    "args_tuple = (5,6,1,2,8)\n",
    "\n",
    "def number_args(*number):\n",
    "    print(number[0]*number[1])\n",
    "\n",
    "number_args(*args_tuple)"
   ]
  },
  {
   "cell_type": "code",
   "execution_count": 18,
   "id": "62c1ef2a-7ff9-4888-8fc9-e9ebf774e2b4",
   "metadata": {},
   "outputs": [
    {
     "name": "stdout",
     "output_type": "stream",
     "text": [
      "243\n"
     ]
    }
   ],
   "source": [
    "def number_squared_cust(number,power):\n",
    "    print(number**power)\n",
    "\n",
    "number_squared_cust(power = 5,number = 3)"
   ]
  },
  {
   "cell_type": "code",
   "execution_count": 28,
   "id": "b9c24b5e-a043-46c9-9839-de6da8c060da",
   "metadata": {},
   "outputs": [
    {
     "name": "stdout",
     "output_type": "stream",
     "text": [
      "My number is: 2309 My other number: 349\n"
     ]
    }
   ],
   "source": [
    "def number_kwarg(**number):\n",
    "    print('My number is: ' + number['integer'] + ' My other number: ' + number['integer2'])\n",
    "\n",
    "number_kwarg(integer = '2309',integer2 = '349')"
   ]
  },
  {
   "cell_type": "code",
   "execution_count": null,
   "id": "3ea7bac7-b56a-4ff2-96e4-b2468981c48b",
   "metadata": {},
   "outputs": [],
   "source": []
  },
  {
   "cell_type": "code",
   "execution_count": null,
   "id": "b4867d4a-6ac7-46ad-a4dd-1812b72368aa",
   "metadata": {},
   "outputs": [],
   "source": []
  },
  {
   "cell_type": "code",
   "execution_count": null,
   "id": "893cb39d-ae62-44f8-917c-bdf91a95bb7d",
   "metadata": {},
   "outputs": [],
   "source": []
  },
  {
   "cell_type": "code",
   "execution_count": null,
   "id": "3eae4ef0-c7c2-4ae4-8f04-aaafee6ba899",
   "metadata": {},
   "outputs": [],
   "source": []
  },
  {
   "cell_type": "code",
   "execution_count": null,
   "id": "683720ac-aa79-4724-be2c-cb361e0ae18f",
   "metadata": {},
   "outputs": [],
   "source": []
  },
  {
   "cell_type": "code",
   "execution_count": null,
   "id": "9dcdd934-7ead-4c30-9428-75cefbf9058e",
   "metadata": {},
   "outputs": [],
   "source": []
  },
  {
   "cell_type": "code",
   "execution_count": null,
   "id": "bbab83d4-88aa-4f29-8f44-47bbb86c5f08",
   "metadata": {},
   "outputs": [],
   "source": []
  },
  {
   "cell_type": "code",
   "execution_count": null,
   "id": "43379a1e-2ae9-4bd8-b41c-61d0f00c4f8d",
   "metadata": {},
   "outputs": [],
   "source": []
  },
  {
   "cell_type": "code",
   "execution_count": null,
   "id": "645997dd-4199-4adf-ac1b-a3c2a35e7626",
   "metadata": {},
   "outputs": [],
   "source": []
  }
 ],
 "metadata": {
  "kernelspec": {
   "display_name": "Python [conda env:base] *",
   "language": "python",
   "name": "conda-base-py"
  },
  "language_info": {
   "codemirror_mode": {
    "name": "ipython",
    "version": 3
   },
   "file_extension": ".py",
   "mimetype": "text/x-python",
   "name": "python",
   "nbconvert_exporter": "python",
   "pygments_lexer": "ipython3",
   "version": "3.12.7"
  }
 },
 "nbformat": 4,
 "nbformat_minor": 5
}
